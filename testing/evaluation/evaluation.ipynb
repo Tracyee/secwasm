{
 "cells": [
  {
   "cell_type": "code",
   "execution_count": 4,
   "id": "3368f462-7c18-4073-a3b3-765e6d6bc97f",
   "metadata": {},
   "outputs": [],
   "source": [
    "# bubblesort"
   ]
  },
  {
   "cell_type": "code",
   "execution_count": 5,
   "id": "53f2314a-308f-4bed-b76a-eb94402f7ee6",
   "metadata": {},
   "outputs": [
    {
     "name": "stdout",
     "output_type": "stream",
     "text": [
      "len: 10 , avg: 3297.5\n",
      "len: 10 , avg: 3802.2\n"
     ]
    }
   ],
   "source": [
    "orig = [3319, 3282, 3297, 3263, 3290, 3295, 3324, 3264, 3327, 3314]\n",
    "instrumented = [3873, 3879, 3798, 3801, 3756, 3806, 3813, 3775, 3736, 3785]\n",
    "print(f\"len: {len(orig)} , avg: {sum(orig) / len(orig)}\")\n",
    "print(f\"len: {len(instrumented)} , avg: {sum(instrumented) / len(instrumented)}\")\n"
   ]
  },
  {
   "cell_type": "markdown",
   "id": "1c94a15c-4654-4b29-b8dd-f2e7eeba558a",
   "metadata": {},
   "source": [
    "# sequential mem write\n",
    "\n",
    "orig:\n",
    " Performance counter stats for 'wasmtime --invoke foo example-original.wasm -- 2147483643 4' (10 runs):\n",
    "\n",
    "          1,402.44 msec task-clock                #    0.999 CPUs utilized            ( +-  0.39% )\n",
    "                12      context-switches          #    0.009 K/sec                    ( +- 27.94% )\n",
    "                 0      cpu-migrations            #    0.000 K/sec                    ( +- 66.67% )\n",
    "           428,427      page-faults               #    0.305 M/sec                    ( +-  0.00% )\n",
    "     4,393,717,463      cycles                    #    3.133 GHz                      ( +-  0.06% )  (49.86%)\n",
    "     8,638,222,132      instructions              #    1.97  insn per cycle           ( +-  0.06% )  (62.41%)\n",
    "     1,912,871,132      branches                  # 1363.955 M/sec                    ( +-  0.09% )  (62.43%)\n",
    "           850,316      branch-misses             #    0.04% of all branches          ( +-  0.58% )  (62.52%)\n",
    "       955,631,971      L1-dcache-loads           #  681.405 M/sec                    ( +-  0.10% )  (62.67%)\n",
    "        54,184,838      L1-dcache-load-misses     #    5.67% of all L1-dcache accesses  ( +-  0.24% )  (62.68%)\n",
    "         1,100,213      LLC-loads                 #    0.784 M/sec                    ( +-  1.51% )  (50.01%)\n",
    "           691,813      LLC-load-misses           #   62.88% of all LL-cache accesses  ( +-  2.19% )  (49.84%)\n",
    "\n",
    "           1.40340 +- 0.00526 seconds time elapsed  ( +-  0.37% )"
   ]
  },
  {
   "cell_type": "markdown",
   "id": "21a811c4-ec4d-42d3-9842-7a58dd80275f",
   "metadata": {},
   "source": [
    "# sequential mem write\n",
    "\n",
    "dyn:\n",
    " Performance counter stats for 'wasmtime --invoke foo example-with-checks.wasm -- 2147483643 4' (10 runs):\n",
    "\n",
    "          2,468.03 msec task-clock                #    0.999 CPUs utilized            ( +-  0.35% )\n",
    "                24      context-switches          #    0.010 K/sec                    ( +- 29.65% )\n",
    "                 1      cpu-migrations            #    0.000 K/sec                    ( +- 44.44% )\n",
    "           950,926      page-faults               #    0.385 M/sec                    ( +-  0.19% )\n",
    "     7,899,234,286      cycles                    #    3.201 GHz                      ( +-  0.24% )  (49.80%)\n",
    "    12,375,850,892      instructions              #    1.57  insn per cycle           ( +-  0.16% )  (62.42%)\n",
    "     2,303,817,189      branches                  #  933.465 M/sec                    ( +-  0.15% )  (62.53%)\n",
    "         1,855,475      branch-misses             #    0.08% of all branches          ( +-  0.91% )  (62.62%)\n",
    "     2,033,643,712      L1-dcache-loads           #  823.995 M/sec                    ( +-  0.15% )  (62.67%)\n",
    "       103,970,763      L1-dcache-load-misses     #    5.11% of all L1-dcache accesses  ( +-  0.50% )  (62.67%)\n",
    "         2,802,134      LLC-loads                 #    1.135 M/sec                    ( +-  1.76% )  (49.89%)\n",
    "         1,544,853      LLC-load-misses           #   55.13% of all LL-cache accesses  ( +-  2.18% )  (49.82%)\n",
    "\n",
    "           2.47008 +- 0.00880 seconds time elapsed  ( +-  0.36% )\n"
   ]
  },
  {
   "cell_type": "code",
   "execution_count": 6,
   "id": "4a787eb7-d797-44a4-a59e-48f75984b3c3",
   "metadata": {},
   "outputs": [
    {
     "ename": "NameError",
     "evalue": "name 'species' is not defined",
     "output_type": "error",
     "traceback": [
      "\u001b[0;31m---------------------------------------------------------------------------\u001b[0m",
      "\u001b[0;31mNameError\u001b[0m                                 Traceback (most recent call last)",
      "Input \u001b[0;32mIn [6]\u001b[0m, in \u001b[0;36m<cell line: 10>\u001b[0;34m()\u001b[0m\n\u001b[1;32m      4\u001b[0m cats \u001b[38;5;241m=\u001b[39m (\u001b[38;5;124m\"\u001b[39m\u001b[38;5;124mSequential mem write\u001b[39m\u001b[38;5;124m\"\u001b[39m, \u001b[38;5;124m\"\u001b[39m\u001b[38;5;124mBubblesort (length=20000)\u001b[39m\u001b[38;5;124m\"\u001b[39m)\n\u001b[1;32m      5\u001b[0m penguin_means \u001b[38;5;241m=\u001b[39m {\n\u001b[1;32m      6\u001b[0m     \u001b[38;5;124m'\u001b[39m\u001b[38;5;124mOriginal\u001b[39m\u001b[38;5;124m'\u001b[39m:     (\u001b[38;5;241m1403\u001b[39m, \u001b[38;5;241m3298\u001b[39m),\n\u001b[1;32m      7\u001b[0m     \u001b[38;5;124m'\u001b[39m\u001b[38;5;124mInstrumented\u001b[39m\u001b[38;5;124m'\u001b[39m: (\u001b[38;5;241m2470\u001b[39m, \u001b[38;5;241m3802\u001b[39m),\n\u001b[1;32m      8\u001b[0m }\n\u001b[0;32m---> 10\u001b[0m x \u001b[38;5;241m=\u001b[39m np\u001b[38;5;241m.\u001b[39marange(\u001b[38;5;28mlen\u001b[39m(\u001b[43mspecies\u001b[49m))  \u001b[38;5;66;03m# the label locations\u001b[39;00m\n\u001b[1;32m     11\u001b[0m width \u001b[38;5;241m=\u001b[39m \u001b[38;5;241m0.25\u001b[39m  \u001b[38;5;66;03m# the width of the bars\u001b[39;00m\n\u001b[1;32m     12\u001b[0m multiplier \u001b[38;5;241m=\u001b[39m \u001b[38;5;241m0\u001b[39m\n",
      "\u001b[0;31mNameError\u001b[0m: name 'species' is not defined"
     ]
    }
   ],
   "source": [
    "import matplotlib.pyplot as plt\n",
    "import numpy as np\n",
    "\n",
    "cats = (\"Sequential mem write\", \"Bubblesort (length=20000)\")\n",
    "means = {\n",
    "    'Original':     (1403, 3298),\n",
    "    'Instrumented': (2470, 3802),\n",
    "}\n",
    "\n",
    "x = np.arange(len(cats))  # the label locations\n",
    "width = 0.25  # the width of the bars\n",
    "multiplier = 0\n",
    "\n",
    "fig, ax = plt.subplots(layout='constrained')\n",
    "\n",
    "for attribute, measurement in means.items():\n",
    "    offset = width * multiplier\n",
    "    rects = ax.bar(x + offset, measurement, width, label=attribute)\n",
    "    ax.bar_label(rects, padding=3)\n",
    "    multiplier += 1\n",
    "\n",
    "# Add some text for labels, title and custom x-axis tick labels, etc.\n",
    "ax.set_ylabel('Performance (ms)')\n",
    "# ax.set_title('Runtime penalty dynamic checks')\n",
    "ax.set_xticks(x + width, cats)\n",
    "ax.legend(loc='upper left', ncols=3)\n",
    "ax.set_ylim(0, 4000)\n",
    "\n",
    "plt.show()"
   ]
  },
  {
   "cell_type": "code",
   "execution_count": null,
   "id": "5c85d232-29ff-440d-a65a-d45837f68f6e",
   "metadata": {},
   "outputs": [],
   "source": []
  }
 ],
 "metadata": {
  "kernelspec": {
   "display_name": "Python 3 (ipykernel)",
   "language": "python",
   "name": "python3"
  },
  "language_info": {
   "codemirror_mode": {
    "name": "ipython",
    "version": 3
   },
   "file_extension": ".py",
   "mimetype": "text/x-python",
   "name": "python",
   "nbconvert_exporter": "python",
   "pygments_lexer": "ipython3",
   "version": "3.9.2"
  }
 },
 "nbformat": 4,
 "nbformat_minor": 5
}
